{
 "cells": [
  {
   "cell_type": "code",
   "execution_count": 1,
   "id": "59f27e89",
   "metadata": {},
   "outputs": [],
   "source": [
    "import pandas as pd\n",
    "import numpy as np\n",
    "import pickle\n",
    "pd.set_option('display.max_columns', 350)\n",
    "from collections import Counter\n",
    "import warnings\n",
    "warnings.filterwarnings(\"ignore\")\n",
    "import matplotlib.pyplot as plt\n",
    "import seaborn as sns\n",
    "import shap\n",
    " \n",
    "import sklearn\n",
    "from sklearn import preprocessing\n",
    "from sklearn.preprocessing import LabelEncoder, OneHotEncoder \n",
    "from sklearn.compose import ColumnTransformer\n",
    "from sklearn.pipeline import Pipeline\n",
    "from statistics import mean, stdev\n",
    "from sklearn.feature_selection import RFE, SelectFromModel, SelectKBest, chi2, RFE\n",
    "from sklearn.preprocessing import MinMaxScaler, RobustScaler\n",
    "from sklearn.model_selection import TimeSeriesSplit\n",
    " \n",
    "import imblearn\n",
    "import xgboost as xgb \n",
    "from sklearn.linear_model import LogisticRegression\n",
    "from sklearn.ensemble import RandomForestClassifier\n",
    "from sklearn.svm import SVC\n",
    "from xgboost import XGBClassifier \n",
    "from sklearn.tree import DecisionTreeClassifier\n",
    "from imblearn.over_sampling import SMOTE\n",
    "from imblearn.under_sampling import RandomUnderSampler  \n",
    "  \n",
    "from sklearn.compose import ColumnTransformer  \n",
    "from imxgboost.imbalance_xgb import imbalance_xgboost as imb_xgb \n",
    "import functools \n",
    "from sklearn.model_selection import LeaveOneOut, cross_validate, KFold, GridSearchCV, RandomizedSearchCV,cross_val_score, RepeatedStratifiedKFold, StratifiedKFold\n",
    "  \n",
    "from sklearn import metrics\n",
    "from sklearn.metrics import classification_report, confusion_matrix\n",
    "from sklearn.metrics import f1_score, classification_report, roc_auc_score, make_scorer, precision_score, recall_score, roc_auc_score\n",
    "from sklearn.metrics import fbeta_score, make_scorer, recall_score, log_loss, confusion_matrix, precision_recall_curve, auc,accuracy_score, precision_score,  roc_curve\n",
    "from sklearn.metrics import average_precision_score,precision_recall_curve, auc,  accuracy_score    \n",
    "from sklearn.model_selection import train_test_split       \n",
    "from sklearn.metrics import make_scorer \n",
    "from tabulate import tabulate\n",
    "from sklearn.model_selection import TimeSeriesSplit\n",
    "import matplotlib.pyplot as plt\n",
    "from sklearn.metrics import classification_report, confusion_matrix, roc_auc_score, roc_curve, precision_recall_curve, auc\n",
    "from sklearn.svm import SVC\n",
    "from sklearn.linear_model import LogisticRegression\n",
    "from sklearn.ensemble import AdaBoostClassifier\n",
    "from sklearn.model_selection import train_test_split\n",
    "from sklearn.preprocessing import MinMaxScaler, PowerTransformer\n",
    "from sklearn.feature_selection import SelectKBest, chi2\n",
    "from sklearn.decomposition import PCA\n",
    "import pandas as pd\n",
    "import numpy as np\n",
    "from scipy.stats import skew, kurtosis\n",
    "import seaborn as sns\n",
    "import matplotlib.pyplot as plt\n",
    "from imblearn.over_sampling import SMOTE\n",
    "from imblearn.under_sampling import RandomUnderSampler\n",
    "from prettytable import PrettyTable\n",
    "from sklearn.feature_selection import SelectKBest, f_classif, mutual_info_classif\n",
    "from sklearn.metrics import roc_auc_score, average_precision_score, classification_report\n",
    "from imblearn.pipeline import Pipeline as ImbalancedPipeline\n",
    "from sklearn.feature_selection import SelectFromModel\n",
    "import shap"
   ]
  },
  {
   "cell_type": "code",
   "execution_count": 2,
   "id": "d37eb7d5",
   "metadata": {},
   "outputs": [],
   "source": [
    "q = pd.read_pickle(\"FinTech3_1960TVT.pkl\") "
   ]
  },
  {
   "cell_type": "code",
   "execution_count": 3,
   "id": "5d4a5d48",
   "metadata": {},
   "outputs": [],
   "source": [
    "# Sorting by timestamp\n",
    "qual = q.sort_values(by='months_since_1960_MEAS_ACCH_DATE_OPENED')"
   ]
  },
  {
   "cell_type": "code",
   "execution_count": 4,
   "id": "5038bca3",
   "metadata": {},
   "outputs": [],
   "source": [
    "# Separate the features and target variable\n",
    "X = qual.drop(['Target'], axis=1)  \n",
    "y = qual['Target']"
   ]
  },
  {
   "cell_type": "code",
   "execution_count": 5,
   "id": "55414d0f",
   "metadata": {},
   "outputs": [
    {
     "name": "stdout",
     "output_type": "stream",
     "text": [
      "Index(['IDacc', 'SNAPNUMacc', 'MEAS_ACCH_ORIGINATOR',\n",
      "       'MEAS_ACCL_STRAY_PAYMENT_AMT', 'MEAS_ACCL_APLL_IS_NEW',\n",
      "       'MEAS_ACCL_APLL_FORBORNE', 'MEAS_ACCL_APPL_TYPE',\n",
      "       'MEAS_ACCL_PAID_IN_FULL_CM', 'MEAS_ACCL_APPLICATION_SUCCESSFUL',\n",
      "       'MEAS_ACCL_UNDERWRITING_SEGMENT',\n",
      "       ...\n",
      "       'months_since_1960_MEAS_ACCL_PHONE_RPC_DATE_FIRST',\n",
      "       'months_since_1960_MEAS_ACCL_PHONE_RPC_DATE_LATEST',\n",
      "       'months_since_1960_MEAS_CUSL_MIN_COMMUNICATION_DATE_3M',\n",
      "       'months_since_1960_MEAS_CUSL_ADMINISTRATION_STATUS_DATE',\n",
      "       'months_since_1960_MEAS_CUSL_PRIORITY_CUSTOMER_STATUS_DATE',\n",
      "       'months_since_1960_MEAS_CUSL_LAST_PAYMENT_DATE',\n",
      "       'months_since_1960_MEAS_CUSL_LAST_DEFAULT_DATE',\n",
      "       'months_since_1960_MEAS_CUSL_FIRST_DEFAULT_DATE',\n",
      "       'months_since_1960_MEAS_CUSH_BIRTHDATE',\n",
      "       'months_since_1960_MEAS_CUSH_DATE_NOMINAL'],\n",
      "      dtype='object', length=249)\n"
     ]
    }
   ],
   "source": [
    "print(X.columns)"
   ]
  },
  {
   "cell_type": "code",
   "execution_count": 6,
   "id": "3da8fec4",
   "metadata": {},
   "outputs": [
    {
     "name": "stdout",
     "output_type": "stream",
     "text": [
      "Duplicate Columns: Index([], dtype='object')\n"
     ]
    }
   ],
   "source": [
    "duplicate_columns = X.columns[X.columns.duplicated()]\n",
    "print(\"Duplicate Columns:\", duplicate_columns)\n"
   ]
  },
  {
   "cell_type": "code",
   "execution_count": 7,
   "id": "477f7159",
   "metadata": {},
   "outputs": [
    {
     "name": "stdout",
     "output_type": "stream",
     "text": [
      "DataFrame Info:\n",
      "<class 'pandas.core.frame.DataFrame'>\n",
      "Index: 2763315 entries, 1052528 to 620421\n",
      "Columns: 249 entries, IDacc to months_since_1960_MEAS_CUSH_DATE_NOMINAL\n",
      "dtypes: float64(107), int32(23), int64(41), object(78)\n",
      "memory usage: 4.9+ GB\n",
      "None\n"
     ]
    }
   ],
   "source": [
    "print(\"DataFrame Info:\")\n",
    "print(X.info())\n"
   ]
  },
  {
   "cell_type": "code",
   "execution_count": 8,
   "id": "4705d17c",
   "metadata": {},
   "outputs": [
    {
     "data": {
      "text/plain": [
       "Target\n",
       "0    99.807984\n",
       "1     0.192016\n",
       "Name: proportion, dtype: float64"
      ]
     },
     "execution_count": 8,
     "metadata": {},
     "output_type": "execute_result"
    }
   ],
   "source": [
    "# calculate percentage of each class of target variable\n",
    "class_ratio = y.value_counts(normalize=True) * 100\n",
    "class_ratio"
   ]
  },
  {
   "cell_type": "code",
   "execution_count": 9,
   "id": "16c7b49e",
   "metadata": {},
   "outputs": [
    {
     "data": {
      "text/plain": [
       "('Class distribution:', Counter({0: 2758009, 1: 5306}))"
      ]
     },
     "execution_count": 9,
     "metadata": {},
     "output_type": "execute_result"
    }
   ],
   "source": [
    "#Count classes \n",
    "\"Class distribution:\", Counter(y)"
   ]
  },
  {
   "cell_type": "code",
   "execution_count": 10,
   "id": "474b2f57",
   "metadata": {},
   "outputs": [],
   "source": [
    "# Encoding \n",
    "categorical_columns = X.select_dtypes(include=['object']).columns\n",
    "numerical_columns = X.select_dtypes(include=['float64', 'int64']).columns\n",
    "\n",
    "# One-hot encode categorical features using get_dummies\n",
    "X_encoded = pd.get_dummies(X[categorical_columns], drop_first=True, prefix_sep='_')\n",
    "\n",
    "# Concatenate numerical and one-hot encoded categorical columns\n",
    "X_combined = pd.concat([X[numerical_columns], X_encoded], axis=1)\n",
    "\n",
    "# Sort the combined dataframe by index\n",
    "X_combined.sort_index(inplace=True)"
   ]
  },
  {
   "cell_type": "code",
   "execution_count": 11,
   "id": "d99f2f86",
   "metadata": {},
   "outputs": [],
   "source": [
    "# Splitting the data into training and a temporary set (test + validation)\n",
    "X_train, X_temp, y_train, y_temp = train_test_split(X_combined, y, test_size=0.2, random_state=42, stratify=y)"
   ]
  },
  {
   "cell_type": "code",
   "execution_count": 12,
   "id": "27cb518b",
   "metadata": {},
   "outputs": [],
   "source": [
    "# Splitting the temporary set into test and validation sets\n",
    "X_test, X_val, y_test, y_val = train_test_split(X_temp, y_temp, test_size=0.5, random_state=42, stratify=y_temp)"
   ]
  },
  {
   "cell_type": "code",
   "execution_count": 15,
   "id": "4fb5459d",
   "metadata": {},
   "outputs": [],
   "source": [
    "# Define chunk size\n",
    "chunk_size = 1000  # Adjust based on memory limitations\n",
    "num_chunks = int(np.ceil(X_train.shape[0] / chunk_size))\n",
    "\n",
    "# Initialize the RandomForestClassifier and SelectFromModel\n",
    "selector_model = RandomForestClassifier(n_estimators=100, random_state=42)\n"
   ]
  },
  {
   "cell_type": "code",
   "execution_count": 16,
   "id": "9a1e0971",
   "metadata": {},
   "outputs": [],
   "source": [
    "# Loop through the training data in chunks\n",
    "for i in range(num_chunks):\n",
    "    # Define the start and end indices for the current chunk\n",
    "    start_index = i * chunk_size\n",
    "    end_index = min((i + 1) * chunk_size, X_train.shape[0])\n",
    "\n",
    "    # Extract the current chunk of data\n",
    "    X_chunk = X_train[start_index:end_index]\n",
    "    y_chunk = y_train[start_index:end_index]\n",
    "\n",
    "    # Incremental fitting of the RandomForestClassifier with partial data\n",
    "    selector_model.fit(X_chunk, y_chunk)\n"
   ]
  },
  {
   "cell_type": "code",
   "execution_count": 18,
   "id": "506d319f",
   "metadata": {},
   "outputs": [],
   "source": [
    "#Since SelectFromModel requires fitting on the entire data,\n",
    "#we can instead use the feature importances from the RandomForestClassifier to select features manually. \n",
    "#Then, we will use chunk processing to extract the most important features. Here’s how you can break it down:"
   ]
  },
  {
   "cell_type": "code",
   "execution_count": 19,
   "id": "e1738b0c",
   "metadata": {},
   "outputs": [],
   "source": [
    "# Get feature importances from the trained model\n",
    "feature_importances = selector_model.feature_importances_\n",
    "\n",
    "# Determine a threshold for selecting features\n",
    "threshold_value = np.mean(feature_importances)\n",
    "\n",
    "# Select features based on the threshold\n",
    "selected_feature_indices = np.where(feature_importances >= threshold_value)[0]\n"
   ]
  },
  {
   "cell_type": "code",
   "execution_count": 21,
   "id": "89407b96",
   "metadata": {},
   "outputs": [],
   "source": [
    "# Adjust chunk size based on available memory\n",
    "chunk_size = 1000   \n",
    "\n",
    "# Initialize lists to store selected data\n",
    "X_train_selected_chunks = []\n",
    "\n",
    "# Get the column names based on the selected feature indices\n",
    "selected_feature_names = X_train.columns[selected_feature_indices]\n",
    "\n",
    "# Iterate through the training data in chunks\n",
    "for i in range(0, X_train.shape[0], chunk_size):\n",
    "    # Select the current chunk\n",
    "    X_chunk = X_train.iloc[i:i + chunk_size]\n",
    "\n",
    "    # Apply feature selection using the selected column names\n",
    "    X_chunk_selected = X_chunk[selected_feature_names].values\n",
    "\n",
    "    # Store the selected chunk\n",
    "    X_train_selected_chunks.append(X_chunk_selected)\n",
    "\n",
    "# Concatenate all selected chunks into a single array\n",
    "X_train_selected = np.vstack(X_train_selected_chunks)\n",
    "\n"
   ]
  },
  {
   "cell_type": "code",
   "execution_count": 23,
   "id": "bcb4c97b",
   "metadata": {},
   "outputs": [],
   "source": [
    "# Select features for the test set using the column names\n",
    "X_test_selected = X_test[selected_feature_names].values\n",
    "\n",
    "# Select features for the validation set using the column names\n",
    "X_val_selected = X_val[selected_feature_names].values\n"
   ]
  },
  {
   "cell_type": "code",
   "execution_count": 29,
   "id": "e7ae5fd9",
   "metadata": {},
   "outputs": [
    {
     "name": "stderr",
     "output_type": "stream",
     "text": [
      "  File \"C:\\Users\\Katerina\\anaconda3\\Lib\\site-packages\\joblib\\externals\\loky\\backend\\context.py\", line 257, in _count_physical_cores\n",
      "    cpu_info = subprocess.run(\n",
      "               ^^^^^^^^^^^^^^^\n",
      "  File \"C:\\Users\\Katerina\\anaconda3\\Lib\\subprocess.py\", line 548, in run\n",
      "    with Popen(*popenargs, **kwargs) as process:\n",
      "         ^^^^^^^^^^^^^^^^^^^^^^^^^^^\n",
      "  File \"C:\\Users\\Katerina\\anaconda3\\Lib\\subprocess.py\", line 1026, in __init__\n",
      "    self._execute_child(args, executable, preexec_fn, close_fds,\n",
      "  File \"C:\\Users\\Katerina\\anaconda3\\Lib\\subprocess.py\", line 1538, in _execute_child\n",
      "    hp, ht, pid, tid = _winapi.CreateProcess(executable, args,\n",
      "                       ^^^^^^^^^^^^^^^^^^^^^^^^^^^^^^^^^^^^^^^\n"
     ]
    },
    {
     "name": "stdout",
     "output_type": "stream",
     "text": [
      "Class distribution after resampling: Target\n",
      "0    0.555556\n",
      "1    0.444444\n",
      "Name: proportion, dtype: float64\n"
     ]
    }
   ],
   "source": [
    "# Resampling strategies\n",
    "resampling_strategy = {\n",
    "    'minority': 0.05,  # Oversample the minority class to 5% of the dataset\n",
    "    'majority': 0.8    # Undersample the majority class to 80% of the dataset\n",
    "}\n",
    "\n",
    "# Pipeline with SMOTE and RandomUnderSampler\n",
    "pipeline = ImbalancedPipeline([\n",
    "    ('oversample', SMOTE(sampling_strategy=resampling_strategy['minority'], n_jobs=-1)),\n",
    "    ('undersample', RandomUnderSampler(sampling_strategy=resampling_strategy['majority'])),\n",
    "    #('scaler', RobustScaler())\n",
    "])\n",
    "\n",
    "# Fit and resample the training data\n",
    "X_train_resampled, y_train_resampled = pipeline.fit_resample(X_train_selected, y_train)\n",
    "\n",
    "# Check the class distribution after resampling\n",
    "class_distribution_after = pd.Series(y_train_resampled).value_counts(normalize=True)\n",
    "print(\"Class distribution after resampling:\", class_distribution_after)\n"
   ]
  },
  {
   "cell_type": "code",
   "execution_count": 30,
   "id": "d0edfc14",
   "metadata": {},
   "outputs": [],
   "source": [
    "# Apply RobustScaler after selecting the best features\n",
    "#This ensures your feature space is reduced to the most important features, the class imbalance is handled correctly, \n",
    "#and everything is scaled consistently.\n",
    "scaler = RobustScaler()\n",
    "X_train_scaled = scaler.fit_transform(X_train_resampled)\n",
    "X_test_scaled = scaler.transform(X_test_selected)\n",
    "X_val_scaled = scaler.transform(X_val_selected)\n",
    "y_train = y_train_resampled"
   ]
  },
  {
   "cell_type": "code",
   "execution_count": 31,
   "id": "54bd4b92",
   "metadata": {},
   "outputs": [],
   "source": [
    "# Create a table for results\n",
    "table = PrettyTable()\n",
    "table.field_names = [\"Model\", \"ROC-AUC\", \"Precision-Recall AUC\"]"
   ]
  },
  {
   "cell_type": "markdown",
   "id": "38a6a593",
   "metadata": {},
   "source": [
    "Random Forest"
   ]
  },
  {
   "cell_type": "code",
   "execution_count": 32,
   "id": "6ade5035",
   "metadata": {},
   "outputs": [
    {
     "name": "stdout",
     "output_type": "stream",
     "text": [
      "ROC-AUC: 0.5221\n",
      "Precision-Recall AUC: 0.0020\n",
      "              precision    recall  f1-score   support\n",
      "\n",
      "           0       1.00      1.00      1.00    275801\n",
      "           1       0.00      0.00      0.00       530\n",
      "\n",
      "    accuracy                           1.00    276331\n",
      "   macro avg       0.50      0.50      0.50    276331\n",
      "weighted avg       1.00      1.00      1.00    276331\n",
      "\n"
     ]
    }
   ],
   "source": [
    "# fit Random Forest\n",
    "rf = RandomForestClassifier(random_state=42)  #class_weight='balanced')\n",
    "rf.fit(X_train_scaled, y_train)\n",
    "\n",
    "# Predict probabilities on the test set\n",
    "y_pred_proba = rf.predict_proba(X_test_scaled)[:, 1]\n",
    "\n",
    "\n",
    "# Evaluate ROC-AUC\n",
    "roc_auc_rf = roc_auc_score(y_test, y_pred_proba)\n",
    "print(f'ROC-AUC: {roc_auc_rf:.4f}')\n",
    "\n",
    "#Precision-Recall AUC\n",
    "pr_auc_rf = average_precision_score(y_test, y_pred_proba)\n",
    "print(f'Precision-Recall AUC: {pr_auc_rf:.4f}')\n",
    "table.add_row([\"RandomForest\", f\"{roc_auc_rf:.4f}\", f\"{pr_auc_rf:.4f}\"])\n",
    "\n",
    "# Classification Report\n",
    "y_pred = rf.predict(X_test_scaled)\n",
    "class_report = classification_report(y_test, y_pred)\n",
    "print(class_report)"
   ]
  },
  {
   "cell_type": "markdown",
   "id": "c081c88c",
   "metadata": {},
   "source": [
    "Logistic Regression"
   ]
  },
  {
   "cell_type": "code",
   "execution_count": 33,
   "id": "3f215184",
   "metadata": {},
   "outputs": [
    {
     "name": "stdout",
     "output_type": "stream",
     "text": [
      "ROC-AUC (Logistic Regression): 0.5087\n",
      "Precision-Recall AUC (Logistic Regression): 0.0020\n",
      "              precision    recall  f1-score   support\n",
      "\n",
      "           0       1.00      0.91      0.95    275801\n",
      "           1       0.00      0.12      0.01       530\n",
      "\n",
      "    accuracy                           0.91    276331\n",
      "   macro avg       0.50      0.52      0.48    276331\n",
      "weighted avg       1.00      0.91      0.95    276331\n",
      "\n"
     ]
    }
   ],
   "source": [
    "# Fit Logistic Regression\n",
    "lr = LogisticRegression(random_state=42) # class_weight='balanced')\n",
    "lr.fit(X_train_scaled, y_train)\n",
    "\n",
    "# Predict probabilities on the test set\n",
    "y_pred_proba_lr = lr.predict_proba(X_test_scaled)[:, 1]\n",
    "\n",
    "# Evaluate ROC-AUC\n",
    "roc_auc_lr = roc_auc_score(y_test, y_pred_proba_lr)\n",
    "print(f'ROC-AUC (Logistic Regression): {roc_auc_lr:.4f}')\n",
    "\n",
    "# Precision-Recall AUC\n",
    "pr_auc_lr = average_precision_score(y_test, y_pred_proba)\n",
    "print(f'Precision-Recall AUC (Logistic Regression): {pr_auc_lr:.4f}')\n",
    "\n",
    "table.add_row([\"LogisticRegression\", f\"{roc_auc_lr:.4f}\", f\"{pr_auc_lr:.4f}\"])\n",
    "\n",
    "# Classification Report\n",
    "y_pred_lr = lr.predict(X_test_scaled)\n",
    "class_report_lr = classification_report(y_test, y_pred_lr)\n",
    "print(class_report_lr)\n"
   ]
  },
  {
   "cell_type": "markdown",
   "id": "191b5026",
   "metadata": {},
   "source": [
    "XGBoost"
   ]
  },
  {
   "cell_type": "code",
   "execution_count": 34,
   "id": "bc949a11",
   "metadata": {},
   "outputs": [
    {
     "name": "stdout",
     "output_type": "stream",
     "text": [
      "ROC-AUC: 0.4997\n",
      "Precision-Recall AUC: 0.0020\n",
      "              precision    recall  f1-score   support\n",
      "\n",
      "           0       1.00      1.00      1.00    275801\n",
      "           1       0.00      0.00      0.00       530\n",
      "\n",
      "    accuracy                           1.00    276331\n",
      "   macro avg       0.50      0.50      0.50    276331\n",
      "weighted avg       1.00      1.00      1.00    276331\n",
      "\n"
     ]
    }
   ],
   "source": [
    "# XGBoost\n",
    "xgb = XGBClassifier(random_state=42)# scale_pos_weight=9)\n",
    "xgb.fit(X_train_scaled, y_train)\n",
    "\n",
    "# Predict probabilities on the test set\n",
    "y_pred_proba = xgb.predict_proba(X_test_scaled)[:, 1]\n",
    "\n",
    "# Evaluate ROC-AUC\n",
    "roc_auc_xgb = roc_auc_score(y_test, y_pred_proba)\n",
    "print(f'ROC-AUC: {roc_auc_xgb:.4f}') \n",
    "\n",
    "#Precision-Recall AUC\n",
    "pr_auc_xgb = average_precision_score(y_test, y_pred_proba)\n",
    "print(f'Precision-Recall AUC: {pr_auc_xgb:.4f}')\n",
    "table.add_row([\"XGBoost\", f\"{roc_auc_xgb:.4f}\", f\"{pr_auc_xgb:.4f}\"])\n",
    "\n",
    "# Classification Report\n",
    "y_pred = xgb.predict(X_test_scaled)\n",
    "class_report = classification_report(y_test, y_pred) \n",
    "print(class_report)"
   ]
  },
  {
   "cell_type": "code",
   "execution_count": 35,
   "id": "5e03717a",
   "metadata": {},
   "outputs": [
    {
     "name": "stdout",
     "output_type": "stream",
     "text": [
      "+--------------------+---------+----------------------+\n",
      "|       Model        | ROC-AUC | Precision-Recall AUC |\n",
      "+--------------------+---------+----------------------+\n",
      "|    RandomForest    |  0.5221 |        0.0020        |\n",
      "| LogisticRegression |  0.5087 |        0.0020        |\n",
      "|      XGBoost       |  0.4997 |        0.0020        |\n",
      "+--------------------+---------+----------------------+\n"
     ]
    }
   ],
   "source": [
    "print (table)"
   ]
  },
  {
   "cell_type": "code",
   "execution_count": 36,
   "id": "9a0ebd32",
   "metadata": {},
   "outputs": [
    {
     "name": "stdout",
     "output_type": "stream",
     "text": [
      "ROC-AUC: 0.4997\n",
      "Precision-Recall AUC: 0.0020\n",
      "              precision    recall  f1-score   support\n",
      "\n",
      "           0       1.00      1.00      1.00    275801\n",
      "           1       0.00      0.00      0.00       530\n",
      "\n",
      "    accuracy                           1.00    276331\n",
      "   macro avg       0.50      0.50      0.50    276331\n",
      "weighted avg       1.00      1.00      1.00    276331\n",
      "\n"
     ]
    },
    {
     "data": {
      "image/png": "[encoded data removed]",
      "text/plain": [
       "<Figure size 600x400 with 1 Axes>"
      ]
     },
     "metadata": {},
     "output_type": "display_data"
    }
   ],
   "source": [
    "# Evaluate on the test set\n",
    "y_pred_proba = xgb.predict_proba(X_test_scaled)[:, 1]\n",
    "\n",
    "# Calculate ROC-AUC and Precision-Recall AUC\n",
    "roc_auc_xgb = roc_auc_score(y_test, y_pred_proba)\n",
    "pr_auc_xgb = average_precision_score(y_test, y_pred_proba)\n",
    "\n",
    "# Print the evaluation metrics\n",
    "print(f'ROC-AUC: {roc_auc_xgb:.4f}')\n",
    "print(f'Precision-Recall AUC: {pr_auc_xgb:.4f}')\n",
    "\n",
    "# Classification report\n",
    "y_pred = xgb.predict(X_test_scaled)\n",
    "class_report = classification_report(y_test, y_pred)\n",
    "print(class_report)\n",
    "\n",
    "# Confusion Matrix plot\n",
    "cm = confusion_matrix(y_test, y_pred)\n",
    "\n",
    "plt.figure(figsize=(6, 4))\n",
    "sns.heatmap(cm, annot=True, fmt='d', cmap='Blues', cbar=False, xticklabels=['Class 0', 'Class 1'], yticklabels=['Class 0', 'Class 1'])\n",
    "plt.title('Confusion Matrix')\n",
    "plt.xlabel('Predicted Labels')\n",
    "plt.ylabel('True Labels')\n",
    "plt.show()"
   ]
  },
  {
   "cell_type": "code",
   "execution_count": 37,
   "id": "1125f615",
   "metadata": {},
   "outputs": [
    {
     "data": {
      "image/png": "[encoded data removed]",
      "text/plain": [
       "<Figure size 640x480 with 1 Axes>"
      ]
     },
     "metadata": {},
     "output_type": "display_data"
    }
   ],
   "source": [
    "# ROC Curve\n",
    "fpr, tpr, _ = roc_curve(y_test, y_pred_proba)\n",
    "plt.figure()\n",
    "plt.plot(fpr, tpr, color='blue', lw=2, label=f'ROC curve (area = {roc_auc_xgb:.4f})')\n",
    "plt.plot([0, 1], [0, 1], color='gray', lw=2, linestyle='--')\n",
    "plt.xlim([0.0, 1.0])\n",
    "plt.ylim([0.0, 1.05])\n",
    "plt.xlabel('False Positive Rate')\n",
    "plt.ylabel('True Positive Rate')\n",
    "plt.title('Receiver Operating Characteristic')\n",
    "plt.legend(loc=\"lower right\")\n",
    "plt.show()"
   ]
  },
  {
   "cell_type": "code",
   "execution_count": 39,
   "id": "2f55ae7b",
   "metadata": {},
   "outputs": [
    {
     "data": {
      "image/png": "[encoded data removed]",
      "text/plain": [
       "<Figure size 640x480 with 1 Axes>"
      ]
     },
     "metadata": {},
     "output_type": "display_data"
    }
   ],
   "source": [
    "precision, recall, _ = precision_recall_curve(y_test, y_pred_proba)\n",
    "\n",
    "# Plot Precision-Recall Curve\n",
    "plt.figure()\n",
    "plt.plot(recall, precision, color='blue', lw=2, label=f'Precision-Recall curve (area = {pr_auc_xgb:.4f})')\n",
    "plt.xlabel('Recall')\n",
    "plt.ylabel('Precision')\n",
    "plt.title('Precision-Recall Curve')\n",
    "plt.legend(loc=\"lower left\")\n",
    "plt.show()"
   ]
  }
 ],
 "metadata": {
  "kernelspec": {
   "display_name": "Python 3 (ipykernel)",
   "language": "python",
   "name": "python3"
  },
  "language_info": {
   "codemirror_mode": {
    "name": "ipython",
    "version": 3
   },
   "file_extension": ".py",
   "mimetype": "text/x-python",
   "name": "python",
   "nbconvert_exporter": "python",
   "pygments_lexer": "ipython3",
   "version": "3.11.5"
  }
 },
 "nbformat": 4,
 "nbformat_minor": 5
}
