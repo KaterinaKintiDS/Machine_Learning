{
 "cells": [
  {
   "cell_type": "code",
   "execution_count": 1,
   "id": "7231af07",
   "metadata": {},
   "outputs": [],
   "source": [
    "import pandas as pd\n",
    "import numpy as np\n",
    "import os\n",
    "import glob\n",
    "import seaborn as sns\n",
    "import matplotlib.pyplot as plt\n",
    "import re\n",
    "pd.set_option('display.max_columns', 350)\n",
    "import warnings\n",
    "warnings.filterwarnings(\"ignore\")"
   ]
  },
  {
   "cell_type": "code",
   "execution_count": 2,
   "id": "2a9a1284",
   "metadata": {},
   "outputs": [],
   "source": [
    "path = (r'C:\\Users\\Katerina\\Desktop\\Accounts_Dataset')\n",
    "file_names = [file_name for file_name in os.listdir(path) if file_name.endswith('.txt')]\n",
    "df_accounts = pd.concat([pd.read_csv(os.path.join(path, file_name), header=None, delimiter='\\t') for file_name in file_names]) "
   ]
  },
  {
   "cell_type": "code",
   "execution_count": 3,
   "id": "05bb3e5c",
   "metadata": {},
   "outputs": [],
   "source": [
    "df_accounts.columns = [\"IDacc\", \"SNAPNUMacc\" , \"MEAS_ACCH_ORIGINATOR\" , \"MEAS_ACCL_STRAY_PAYMENT_AMT\" , \"MEAS_ACCL_APLL_IS_NEW\" , \n",
    " \"MEAS_ACCL_APLL_FORBORNE\" , \"MEAS_ACCL_APPL_TYPE\" , \"MEAS_ACCL_PAID_IN_FULL_CM\" , \"MEAS_ACCL_APPLICATION_SUCCESSFUL\" , \n",
    " \"MEAS_ACCL_UNDERWRITING_SEGMENT\" , \"MEAS_ACCL_DPO_OR_REPAYMENT_PLAN\" , \"MEAS_ACCL_PROMISE_ACCOUNTS\" , \n",
    " \"MEAS_ACCL_ACTIVATION_PERIOD\" , \"MEAS_ACCL_PROMISE_ACCOUNT\" , \"MEAS_ACCL_KEPT_ACCOUNT\" , \"MEAS_ACCL_KEPT_PROMISE\" , \n",
    " \"MEAS_ACCL_NUM_OF_PROMISES\" , \"MEAS_ACCL_HAS_ARRANGEMENT_FLAG\" , \"MEAS_ACCL_FLAG_RUNNING\" , \"MEAS_ACCL_APPL_DELINQ_DPD\" ,\n",
    " \"MEAS_ACCL_BROKEN_SETTLEMENT_INDICATOR_CP\" , \"MEAS_ACCL_ACTL_IS_PHONE_RPC\" , \"MEAS_ACCL_LMEM_DATE_ENTRY\" , \"MEAS_ACCL_APPL_STATUS\" , \n",
    " \"MEAS_ACCL_APPLICATION_BUCKET\" , \"MEAS_ACCL_LAST_INBOUND_CALL\" , \"MEAS_ACCL_LAST_OUTBOUND_CALL\" , \"MEAS_ACAG_DATE_CONTACT_LAST\",\n",
    " \"MEAS_ACCL_LAST_CONTACT_TYPE\" , \"MEAS_ACCL_LAST_CONTACT_STEP_DATE\" , \"MEAS_ACCL_LAST_CONTACT_STEP\" , \"MEAS_ACCL_LAST_CONTACT_STR_DATE\" , \n",
    " \"MEAS_ACCL_LAST_CONTACT_STRATEGY\" , \"MEAS_ACCL_LAST_KEPT_BROKEN_DATE\" , \"MEAS_ACCL_NBR_OF_KEPT_PROMISESS\" , \"MEAS_ACCL_NBR_OF_KEPT_PROMISES\",\n",
    " \"MEAS_ACCL_NBR_OF_PROMISES\" , \"MEAS_ACCL_NBR_OF_UNKEPT_PROMISES\" , \"MEAS_ACCL_REQUEST_STATUS\" , \"MEAS_ACCL_REQUEST_STATUS_DATE\" ,\n",
    " \"MEAS_ACCH_STATUS_DELINQ_DATE\" , \"MEAS_ACCH_STATUS_DELINQ\" , \"MEAS_ACCL_ADMIN_STATUS_EXP_DATE\" , \"MEAS_ACCL_PREVIOUS_RETURN_DATE\" , \n",
    " \"MEAS_ACCL_DATE_CAPITALISED\" , \"MEAS_ACCL_DATE_WRITEOFF_TOBE\" , \"MEAS_ACCH_DATE_LITIGATION_LATEST\" , \"MEAS_ACCL_SPECIAL_TREAT_DATE\" ,\n",
    " \"MEAS_ACCH_DATE_DENOUNCED\" , \"MEAS_ACCH_DATE_DISBURSE_FIRST\" , \"MEAS_ACCH_STATUS\" , \"MEAS_ACCL_STATUS_PRIORITY\" , \n",
    " \"MEAS_ACCL_STATUS_SKIP\" , \"MEAS_ACCL_BUCKET_MAX_NBG\" , \"MEAS_ACCH_CATEG_SEGMENT\" , \"MEAS_ACCL_COOPERATIVE\" , \"MEAS_ACCH_DATE_OPENED\" , \n",
    " \"MEAS_ACCH_DATE_BILLING\" , \"MEAS_ACCL_BILLING_DAY\" , \"MEAS_ACCT_BRANCH\" , \"MEAS_ACCH_BUSUNIT\" , \"MEAS_ACCH_DATE_RESCHEDULING\", \n",
    " \"MEAS_ACCH_CURRENCY\" , \"MEAS_ACCH_ACTIVE\" , \"MEAS_ACCH_DELDAYS\" , \"MEAS_ACCH_DATE_INSTALMENT_NEXT\" , \"MEAS_ACCH_DATE_EXP\" ,\n",
    " \"MEAS_ACCL_FIRST_ENTRY_DATE\" , \"MEAS_ACCL_SECURITIZATION_TYPE\" , \"MEAS_ACCH_DATE_SECURITISED\" , \"MEAS_ACCL_DEFAULT_REASON\" ,\n",
    " \"MEAS_ACCL_EBA_STATUS\" , \"MEAS_ACCH_QC_ISCASE\", \"MEAS_ACCH_QC_ISCONTRACT\" , \"MEAS_ACCL_LAST_BILLING_DATE_CLIENT\" , \n",
    " \"MEAS_ACCH_DELINQ_DATE_EXIT\" , \"MEAS_ACCH_DELINQ_DATE_ENTRY\" , \"MEAS_ACCL_LEGAL_ACTION\" ,\"MEAS_ACCL_LEGAL_ACTION_STATUS\",\n",
    " \"MEAS_ACCH_DATE_BILLING_NEXT\" , \"MEAS_ACCH_PERIODICITY\" , \"MEAS_ACCL_RELATION_TYPE_DESC\"  , \"MEAS_ACCL_RELATION_TYPE\" ,\n",
    " \"MEAS_ACCH_COUNT_RESCHEDULINGS\" , \"MEAS_ACCL_SOLD_TO\" , \"MEAS_ACCL_CASE_SOURCE\" , \"MEAS_ACCH_CATEG_TYPE\" , \n",
    " \"MEAS_ACCH_TYPE_FORBEARANCE\" , \"MEAS_ACCH_REASON_NPL\" , \"MEAS_ACCH_FLAG_LITIGATION\" , \"MEAS_ACCH_DATE_WRITEOFF\" , \n",
    " \"MEAS_ACCL_CALL_BACK_COUNTER\" , \"MEAS_ACCL_MESSAGE_COUNTER\" , \"MEAS_ACCL_NOT_FOUND_COUNTER\" , \"MEAS_ACCL_REFUSE_TO_PAY_COUNTER\" ,\n",
    " \"MEAS_ACCL_SECONDARY_FLOW_FLAG\" , \"MEAS_ACCH_DATE_LITIGATION\" , \"MEAS_ACCH_STATUS_LITIGATION\" ,\"MEAS_ACCH_DATE_PAYMENT_LAST\", \n",
    " \"MEAS_ACCL_LAST_PAYMENT_TYPE\" , \"MEAS_ACCH_FLAG_COSIGNER\" , \"MEAS_ACCH_FLAG_GUARANTOR\" ,\"MEAS_ACCL_NUMBER_OF_COLLATERALS\" ,\n",
    " \"MEAS_ACCL_PAYMENT_IN_ALLOCATION\" , \"MEAS_ACCH_FLAG_SECURED\" , \"MEAS_ACCT_CUST_CODE\" , \"MEAS_ACCL_DEPARTMENT_AT_ALLOCATION\",\n",
    " \"MEAS_ACCL_INDICATION_CONTACT_ANY_CP\" , \"MEAS_ACCL_INDICATION_CONTACT_ATTEMPT_CP\" , \"MEAS_ACCL_INDICATION_CONTACT_RIGHTPERSON_CP\" ,\n",
    " \"MEAS_ACCL_MAX_CONTACTTYPE\" , \"MEAS_ACCL_ALLOCATION_CODE\" , \"MEAS_ACCH_DELINQ_PACKAGE_DATE\" , \"MEAS_ACCL_PACKET_DEFINITION_DATE\",\n",
    " \"MEAS_ACCL_PACKET_EXPIRATION_DATE\" , \"MEAS_ACCH_DELINQ_PACKAGE_TYPE\" , \"MEAS_PROD_CODE\" , \"MEAS_ACCL_LAST_RECALL_DATE\" , \"MEAS_ACCL_REQUEST_CODE\" , \n",
    " \"MEAS_ACCL_REQUEST_TYPE\" , \"MEAS_ACCL_DEBT_REDUCTION_RULE\" , \"MEAS_ACCH_DELINQ_STRATEGY_ENTRYDATE\" , \n",
    " \"MEAS_ACCH_DELINQ_STEP_ENTRYDATE\" , \"MEAS_ACCL_LAST_PENDING_ARRANG\" , \"MEAS_ACCH_DATE_NOMINAL\" , \"MEAS_ACCH_SNAPNUM\" ,\n",
    " \"MEAS_SPRD_CODE\" , \"MEAS_ACCH_DELINQ_STRATEGY\" , \"MEAS_ACCH_DELINQ_STEP\" , \"MEAS_ACCH_DATE_CLOSED\", \"MEAS_ACCL_HAS_ARRANGEMENT_NEW\" , \n",
    " \"MEAS_ACCL_HAS_ARRANGEMENT_CURRENT\" , \"MEAS_ACCL_DENORM_APLL_DISCOUNT_PERCENTAGE\" , \"MEAS_ACCL_ARRANGEMENT_DURATION_APPROVED_MAX\" , \n",
    " \"MEAS_ACCL_DENORM_APLL_STARTING_DATE\" , \"MEAS_ACCL_ARRANGEMENT_BUCKET_MAX\" , \"MEAS_ACCL_CONTACT_NUM_ATTEMPTS_CP\" , \"MEAS_ACCL_CONTACT_NUM_RPC_CP\" , \n",
    " \"MEAS_ACCL_CONTACT_RPC_TYPE_LATEST\" , \"MEAS_ACCH_CATEG_CLASS_ASSET\" , \"MEAS_ACCL_HAS_WEB_ACCOUNT\" , \"MEAS_ACCL_HAS_PHONE_NUMBER\",\n",
    " \"MEAS_ACCL_HAS_CONTACT_ATTEMPT\" , \"MEAS_ACCL_FIRST_CONTACT_ATTEMPT_DATE\" , \"MEAS_ACCL_NUM_INSTALMENTS_TOTAL\", \n",
    " \"MEAS_ACCL_APLL_MATURITY_PERCENTAGE\" , \"MEAS_ACCL_NR_OF_PAST_UNSETTLED_INSTALLMENTS\" , \"MEAS_ACCL_APLL_LAST_BROKEN_DATE\" , \n",
    " \"MEAS_ACCL_DATE_STATUS_REJECTED\" , \"MEAS_ACCL_APLL_DAYS_PENDING\" , \"MEAS_ACCL_APLL_DAYS_REJECTED\" , \"MEAS_ACCL_APLL_DAYS_CANCELLED\" , \n",
    " \"MEAS_ACCL_APLL_NUM_INSTALMENTS_PAST\" , \"MEAS_ACCL_LAST_SUBMISSION_DATE\" , \"MEAS_ACCL_SUBMISSION_AFTER_CONTACT\" , \n",
    " \"MEAS_ACCL_APPLICATION_PENDING\" , \"MEAS_ACCL_APPLICATION_ACTIVE_BUCKET_1\" , \"MEAS_ACCL_APPLICATION_ACTIVE_BUCKET_2\" ,\n",
    " \"MEAS_ACCL_APPLICATION_OPEN\" , \"MEAS_ACCL_APPLICATION_OPEN_PM\" , \"MEAS_ACCL_DPD_GROUP\" , \"MEAS_ACCL_BUS_SIZE\" , \n",
    " \"MEAS_ACCL_PUBLIC_SECTOR\" , \"MEAS_ACCL_FLAG_DENOUNCED\" , \"MEAS_ACCL_EBA_FORBORNE\" , \"MEAS_ACCL_NUMBER_OF_GUARANTORS\" ,\n",
    " \"MEAS_ACCL_LETTER_FIRST_DATE\", \"MEAS_ACCL_LETTER_SECOND_DATE\" , \"MEAS_ACCL_HAS_FIRST_LETTER\" , \"MEAS_ACCL_HAS_SECOND_LETTER\" , \n",
    " \"MEAS_ACCL_LETTER_RECEIVED\" , \"MEAS_ACCL_LETTER_RECEIVED_DATE\" , \"MEAS_ACCL_FIRST_CONTACT_ATTEMPT_NM\" , \"MEAS_ACCL_BROKEN_BUCKET_4\" , \n",
    " \"MEAS_ACCL_ACTUAL_CONTACTS\" , \"MEAS_ACCL_ACTUAL_CONTACTS_PM\" , \"MEAS_ACCL_HAS_COLLATERAL\" , \"MEAS_ACCL_PAID_IN_FULL\" , \n",
    " \"MEAS_ACCL_LAST_SETTLEMENT_BUCKET\", \"MEAS_ACCL_LAST_SETTLEMENT_STATUS\" , \"MEAS_ACCL_PAYMENT_RECONCILIATION_CODE\" , \n",
    " \"MEAS_ACCL_DATE_UPDATE_LATEST\" , \"MEAS_ACCL_FLAG_OPEN_RECENTLY\" , \"MEAS_ACCL_PHONE_RPC_COUNT_EVER\" , \"MEAS_ACCL_PHONE_RPC_DATE_FIRST\" , \n",
    " \"MEAS_ACCL_PHONE_RPC_DATE_LATEST\" , \"MEAS_ACCL_EED_PERCENT\" , \"MEAS_ACCH_DELINQ_DCA\" , \"MEAS_ACCL_PHONE_RPC_DCA_FIRST\" , \n",
    " \"MEAS_ACCL_PHONE_RPC_DCA_LATEST\" , \"MEAS_ACCL_DELINQ_DCA_GROUPING\" , \"MEAS_ACCL_PREVIOUS_3RD_PARTY_NAME\" , \n",
    " \"MEAS_ACCL_RUNNING_INSTALMENTS_AMT\" , \"MEAS_ACCL_PAYMENTS_ONEOFF_CP\" , \"MEAS_ACCL_PAYMENTS_REPAYMENT_PLAN_CP\" ,\"MEAS_ACCL_PAYMENTS_ONEOFF_YTD\" , \n",
    " \"MEAS_ACCL_PAYMENTS_REPAYMENT_PLAN_YTD\" , \"MEAS_ACCL_PAYMENTS_NO_SETTLEMENT_YTD\" , \"MEAS_ACCL_PAYMENTS_ARRANGEMENTS\" , \n",
    " \"MEAS_ACCL_AMT_PROMISE\" , \"MEAS_ACCL_AMT_KEPT\" , \"MEAS_ACCL_ARRANGEMENT_PRINCIPAL\" , \"MEAS_ACCL_ARRANGEMENT_BALANCE\" , \n",
    " \"MEAS_ACCL_AMT_INSTAL_NOT_MATURED_CM\" , \"MEAS_ACCL_APPL_AMT_APPROVED\" , \"MEAS_ACCL_APPL_AMT_DUNNING\" , \n",
    " \"MEAS_ACCL_APPL_AMT_APPROVED_NEW\" , \"MEAS_ACCL_APPL_AMT_FALLOFF\" , \"MEAS_ACCL_LMEM_PAYMENTS_CP\" , \"MEAS_ACCL_LMEM_PAYMENTS_CUMUL\" , \n",
    " \"MEAS_ACCH_AMT_PAYMENT_CP\" , \"MEAS_ACCL_AMT_PAYMENTS_TOTAL\" , \"MEAS_ACCL_AMT_OVERPAYMENT_ADDITIONAL\" , \"MEAS_ACCL_AMT_PAYMENT_YTD\" , \n",
    " \"MEAS_ACCH_AMT_PASTDUE\" , \"MEAS_ACCL_AMT_DENOUNCED\" , \"MEAS_ACCL_AMT_DUE_NBG\" , \"MEAS_ACCL_AMT_WRITEOFF_TOBE\" , \n",
    " \"MEAS_ACCL_AMT_PAYMENT_REMAINING\" , \"MEAS_ACCH_AMT_BAL_ACCOUNTING\" , \"MEAS_ACCL_AMT_ORIG_EXPENSES\" , \n",
    " \"MEAS_ACCL_AMT_ORIG_INTEREST_OFFBALANCE\" , \"MEAS_ACCL_AMT_ORIG_INTEREST_ONBALANCE\" , \"MEAS_ACCL_AMT_ORIG_PRINCIPAL\" , \n",
    " \"MEAS_ACCL_AMT_ORIG_CLAIM_PNI\" , \"MEAS_ACCL_AMT_OVERPAYMENT\" , \"MEAS_ACCH_AMT_EXPENSES\" , \"MEAS_ACCL_AMT_INTEREST_OFFBALANCE\" ,\n",
    " \"MEAS_ACCL_AMT_INTEREST_ONBALANCE\" , \"MEAS_ACCH_AMT_PRINCIPAL\" , \"MEAS_ACCL_AMT_CLAIM_PNI\" , \"MEAS_ACCL_AMT_CLAIM_G3\", \n",
    " \"MEAS_ACCL_DUE_PRINCIPAL\" , \"MEAS_ACCL_AMT_CLAIM_G4\" , \"MEAS_ACCL_AMT_PRINCIPAL_TOTAL\" , \"MEAS_ACCL_AMT_GBV\" , \"MEAS_ACCH_AMT_LIMIT\" , \n",
    " \"MEAS_ACCL_DEFAULT_BALANCE\" , \"MEAS_ACCH_AMT_ARREARS\" , \"MEAS_ACCL_LATE_INTEREST\" , \"MEAS_ACCL_INTEREST\" , \"MEAS_ACCH_AMT_MINPAYMENT\" , \n",
    " \"MEAS_ACCH_AMT_BALANCE\" , \"MEAS_ACCL_PURCHASE_BALANCE\" , \"MEAS_ACCL_COURT_CLAIMED_AMOUNT\" , \"MEAS_ACCH_AMT_WRITEOFF\" , \n",
    " \"MEAS_ACCH_AMT_PAYMENT_LAST\" , \"MEAS_ACCL_COLLATERALS_VALUE\" , \"MEAS_ACCL_AMT_INSTALMENTS_CM\" , \"MEAS_ACCL_AMT_INSTALMENTS_MISSED\" , \n",
    " \"MEAS_ACCL_AMT_INSTALMENTS_NM\" , \"MEAS_ACCL_AMT_INSTALMENTS_FUTURE\" , \"MEAS_ACCL_APPL_AMT_INSTALMENT_NEXT\" , \"MEAS_ACCL_APLL_AMT_REMAINING\" ,\n",
    " \"MEAS_ACCL_APLL_AMT_WRITEOFF\" , \"MEAS_ACCL_APLL_AMT_INSTALMENTS_PAST\" , \"MEAS_ACCL_COLLA_MARKET_VALUE\" , \"MEAS_ACCL_AMT_BAL_ACCOUNTING_RR\" , \n",
    " \"MEAS_ACCL_AMT_BAL_OFFBALANCE_RR\" , \"MEAS_ACCL_AMT_PAYMENTS_EXPECTED_3M\", \"MEAS_ACCL_AMT_INSTALMENTS_PAID\",\n",
    " \"MEAS_ACCL_COLLATERAL_OR_RE_MARKET_VALUE\" , \"MEAS_ACCL_EED_GUARANTEED_AMOUNT\"]"
   ]
  },
  {
   "cell_type": "code",
   "execution_count": 4,
   "id": "1819731d",
   "metadata": {},
   "outputs": [],
   "source": [
    "path = (r\"C:\\Users\\Katerina\\Desktop\\Customers_Data\")\n",
    " \n",
    "file_names = [file_name for file_name in os.listdir(path) if file_name.endswith('.txt')]\n",
    "df_customers = pd.concat([pd.read_csv(os.path.join(path, file_name), header=None, delimiter='\\t') for file_name in file_names])"
   ]
  },
  {
   "cell_type": "code",
   "execution_count": 5,
   "id": "dffac352",
   "metadata": {},
   "outputs": [],
   "source": [
    "df_customers.columns = ['IDcus', 'SNAPNUMcus', 'MEAS_CUSH_CATEG_SEGMENT', 'MEAS_CUSL_HAS_CONTACT_ATTEMPT_EVER', 'MEAS_CUSL_PROFESSION_GROUPING',\n",
    "'MEAS_CUSL_PHONE_RPC_COUNT', 'MEAS_CUSL_COUNT_RPC', 'MEAS_CUSL_COUNT_NO_CONTACT', 'MEAS_CUSL_REFUSE', 'MEAS_CUSL_PROMISE', \n",
    "'MEAS_CUSL_COMPLAIN', 'MEAS_CUSL_COMMUNICATION_ATTEMPT', 'MEAS_CUSL_MIN_COMMUNICATION_DATE_3M', 'MEAS_CUSL_RESPONDED', \n",
    "'MEAS_CUSL_COUNT_3RD_PARTY', 'MEAS_CUSL_POSTAL_REGION', 'MEAS_CUSL_PREFECTURE', 'MEAS_CUSL_GEOGRAPHICAL_REGION', \n",
    "'MEAS_CUSL_MAINLAND_ISLAND', 'MEAS_CUSL_MAX_PERSON_CONTACT_TYPE', 'MEAS_CUSL_DIALLER_ATTEMPTS_COUNT', 'MEAS_CUSL_HELLO_LETTER_RESULT',\n",
    "'MEAS_CUSL_CITY', 'MEAS_CUSL_COUNTRY' , 'MEAS_CUSH_ADDR_PRIMARY_REGION' , 'MEAS_CUSL_ADMINISTRATION_STATUS_DATE' , \n",
    "'MEAS_CUSL_ADMINISTRATION_STATUS', 'MEAS_CUSL_HAS_ACTIVE_ARRANGEMENT' , 'MEAS_CUSL_HAS_PAYMENT', 'MEAS_CUSL_PRIORITY_CUSTOMER_STATUS_DATE', \n",
    "'MEAS_CUSH_STATUS_LITIGATION ' , 'MEAS_CUSH_COUNT_PHONES', 'MEAS_CUSL_COLLECTION_CASES_NUM' , 'MEAS_CUSL_MAX_CURRENT_BUCKET' , \n",
    "'MEAS_CUSL_MIN_CURRENT_BUCKET' , 'MEAS_CUSL_HAS_RESTRUCTURING_APPLICATION' , 'MEAS_CUSH_OWNER_HOME' , 'MEAS_CUSL_IS_CO_OWNER' , \n",
    "'MEAS_CUSL_IS_GUARANTOR' , 'MEAS_CUSL_IS_PRIMARY_OWNER' , 'MEAS_CUSL_LAST_PAYMENT_DATE' , 'MEAS_CUSL_LAST_DEFAULT_DATE' , \n",
    "'MEAS_CUSL_FIRST_DEFAULT_DATE', 'MEAS_CUSL_COLLECTION_CASES_NUM_PRIMARY_OWNER' , 'MEAS_CUSL_MAX_CURRENT_BUCKET_PRIMARY_OWNER' , \n",
    "'MEAS_CUSL_TOTAL_ACCOUNTS' , 'MEAS_CUSH_BIRTHDATE' , 'MEAS_CUSH_ID_TYPE' , 'MEAS_CUSH_FAMSTATUS' , 'MEAS_CUSH_PROFESSION', \n",
    "'MEAS_CUSL_POSITION', 'MEAS_CUSH_GENDER' , 'MEAS_CUSL_STATUS_LAW3869' , 'MEAS_CUSH_DATE_NOMINAL' , 'MEAS_CUSH_STATUS', \n",
    "'MEAS_CUSL_HAS_CONTACT_ATTEMPT' , 'MEAS_CUSL_LAST_PAYMENT_AMOUNT', 'MEAS_CUSL_DEBT_AMOUNT_PRIMARY_OWNER' , 'MEAS_CUSL_TOTAL_OUTSTANDING_AMOUNT' , \n",
    "'MEAS_CUSL_DEBT_AMOUNT' , 'MEAS_CUSL_ACCOUNTING_BALANCE' , 'MEAS_CUSL_BALANCE', 'MEAS_CUSL_BALANCE_PRIMARY_OWNER']"
   ]
  },
  {
   "cell_type": "code",
   "execution_count": 6,
   "id": "85031c0b",
   "metadata": {},
   "outputs": [],
   "source": [
    "# Sort the DataFrame by 'SNAPNUMacc' column\n",
    "#df_accounts.sort_values(by='SNAPNUMacc', inplace=True)"
   ]
  },
  {
   "cell_type": "code",
   "execution_count": 7,
   "id": "22e8c13e",
   "metadata": {},
   "outputs": [],
   "source": [
    "# Create a new column 'paid_in_full_next' to store the value of 'MEAS_ACCL_PAID_IN_FULL_CM' in the next snapshot\n",
    "df_accounts['paid_in_full_next'] = df_accounts.groupby('SNAPNUMacc')['MEAS_ACCL_PAID_IN_FULL_CM'].shift(-1)\n",
    "\n",
    "# Create a new column 'paid_in_full_subsequent' to store the value of 'MEAS_ACCL_PAID_IN_FULL_CM' in the subsequent snapshot\n",
    "df_accounts['paid_in_full_subsequent'] = df_accounts.groupby('SNAPNUMacc')['MEAS_ACCL_PAID_IN_FULL_CM'].shift(-2)"
   ]
  },
  {
   "cell_type": "code",
   "execution_count": 8,
   "id": "a07c60c4",
   "metadata": {},
   "outputs": [],
   "source": [
    "# Set paid_in_full_next to 'No' when snapshot is 37\n",
    "df_accounts.loc[df_accounts['SNAPNUMacc'] == 37, 'paid_in_full_next'] = 'No'\n",
    "\n",
    "# Set paid_in_full_subsequent to 'No' when snapshot is 37 or 38\n",
    "df_accounts.loc[df_accounts['SNAPNUMacc'].isin([37, 38]), 'paid_in_full_subsequent'] = 'No'"
   ]
  },
  {
   "cell_type": "code",
   "execution_count": 9,
   "id": "1ab017a0",
   "metadata": {},
   "outputs": [],
   "source": [
    "# Check if someone pays a full installment within the next 2 months for specific snapshot numbers\n",
    "snapshot_filter = (df_accounts['SNAPNUMacc'] >= 37) & (df_accounts['SNAPNUMacc'] <= 46)\n",
    "df_accounts['Target'] = ((df_accounts['paid_in_full_next'] == 'Yes') | (df_accounts['paid_in_full_subsequent'] == 'Yes')) \n",
    "df_accounts.loc[~snapshot_filter, 'Target'] = False"
   ]
  },
  {
   "cell_type": "code",
   "execution_count": 10,
   "id": "eaa82bff",
   "metadata": {},
   "outputs": [
    {
     "name": "stdout",
     "output_type": "stream",
     "text": [
      "        SNAPNUMacc MEAS_ACCL_PAID_IN_FULL_CM paid_in_full_next  \\\n",
      "0               37                        No                No   \n",
      "1               37                        No                No   \n",
      "2               37                        No                No   \n",
      "3               37                        No                No   \n",
      "4               37                        No                No   \n",
      "...            ...                       ...               ...   \n",
      "336774          48                        No                No   \n",
      "336775          48                        No                No   \n",
      "336776          48                        No                No   \n",
      "336777          48                        No                No   \n",
      "336778          48                        No               NaN   \n",
      "\n",
      "       paid_in_full_subsequent  Target  \n",
      "0                           No   False  \n",
      "1                           No   False  \n",
      "2                           No   False  \n",
      "3                           No   False  \n",
      "4                           No   False  \n",
      "...                        ...     ...  \n",
      "336774                      No   False  \n",
      "336775                      No   False  \n",
      "336776                      No   False  \n",
      "336777                     NaN   False  \n",
      "336778                     NaN   False  \n",
      "\n",
      "[4074754 rows x 5 columns]\n"
     ]
    }
   ],
   "source": [
    "# Print the relevant columns\n",
    "print(df_accounts[['SNAPNUMacc', 'MEAS_ACCL_PAID_IN_FULL_CM', 'paid_in_full_next', 'paid_in_full_subsequent', 'Target']])"
   ]
  },
  {
   "cell_type": "code",
   "execution_count": 11,
   "id": "310f3315",
   "metadata": {},
   "outputs": [],
   "source": [
    "# Convert True to 1 and False to 0 in the 'Target' column\n",
    "df_accounts['Target'] = df_accounts['Target'].replace({True: 1, False: 0})"
   ]
  },
  {
   "cell_type": "code",
   "execution_count": 12,
   "id": "bd14c737",
   "metadata": {},
   "outputs": [
    {
     "data": {
      "text/plain": [
       "11"
      ]
     },
     "execution_count": 12,
     "metadata": {},
     "output_type": "execute_result"
    }
   ],
   "source": [
    "a = df_accounts['paid_in_full_next'].isnull().sum()\n",
    "a"
   ]
  },
  {
   "cell_type": "code",
   "execution_count": 13,
   "id": "0c792955",
   "metadata": {},
   "outputs": [
    {
     "data": {
      "text/plain": [
       "0"
      ]
     },
     "execution_count": 13,
     "metadata": {},
     "output_type": "execute_result"
    }
   ],
   "source": [
    "b = df_accounts['SNAPNUMacc'].isnull().sum() \n",
    "b"
   ]
  },
  {
   "cell_type": "code",
   "execution_count": 14,
   "id": "35bd1ede",
   "metadata": {},
   "outputs": [
    {
     "data": {
      "text/plain": [
       "0"
      ]
     },
     "execution_count": 14,
     "metadata": {},
     "output_type": "execute_result"
    }
   ],
   "source": [
    "c = df_accounts['MEAS_ACCL_PAID_IN_FULL_CM'].isnull().sum()\n",
    "c"
   ]
  },
  {
   "cell_type": "code",
   "execution_count": 15,
   "id": "15fb7c6b",
   "metadata": {},
   "outputs": [
    {
     "data": {
      "text/plain": [
       "20"
      ]
     },
     "execution_count": 15,
     "metadata": {},
     "output_type": "execute_result"
    }
   ],
   "source": [
    "d = df_accounts['paid_in_full_subsequent'].isnull().sum()\n",
    "d"
   ]
  },
  {
   "cell_type": "code",
   "execution_count": 16,
   "id": "553909d1",
   "metadata": {},
   "outputs": [
    {
     "data": {
      "text/plain": [
       "0"
      ]
     },
     "execution_count": 16,
     "metadata": {},
     "output_type": "execute_result"
    }
   ],
   "source": [
    "e = df_accounts['Target'].isnull().sum()\n",
    "e"
   ]
  },
  {
   "cell_type": "code",
   "execution_count": 17,
   "id": "6dfae463",
   "metadata": {},
   "outputs": [
    {
     "data": {
      "text/plain": [
       "Target\n",
       "0    4066226\n",
       "1       8528\n",
       "Name: count, dtype: int64"
      ]
     },
     "execution_count": 17,
     "metadata": {},
     "output_type": "execute_result"
    }
   ],
   "source": [
    "df_accounts['Target'].value_counts()"
   ]
  },
  {
   "cell_type": "code",
   "execution_count": 18,
   "id": "24f58c70",
   "metadata": {},
   "outputs": [
    {
     "data": {
      "text/plain": [
       "Target\n",
       "0    99.790711\n",
       "1     0.209289\n",
       "Name: count, dtype: float64"
      ]
     },
     "execution_count": 18,
     "metadata": {},
     "output_type": "execute_result"
    }
   ],
   "source": [
    "target_percentages = (df_accounts['Target'].value_counts() / len(df_accounts)) * 100\n",
    "target_percentages"
   ]
  },
  {
   "cell_type": "code",
   "execution_count": 19,
   "id": "0f0266f2",
   "metadata": {},
   "outputs": [],
   "source": [
    "df_accounts.drop(['paid_in_full_next', 'paid_in_full_subsequent'], axis = 1, inplace= True)"
   ]
  },
  {
   "cell_type": "code",
   "execution_count": 20,
   "id": "8a0f8ffa",
   "metadata": {},
   "outputs": [],
   "source": [
    "\n",
    "mergeAccCus = pd.merge(df_accounts, df_customers, left_on=['MEAS_ACCT_CUST_CODE', 'SNAPNUMacc'], right_on=['IDcus', 'SNAPNUMcus'])"
   ]
  },
  {
   "cell_type": "code",
   "execution_count": 21,
   "id": "a33d7dd8",
   "metadata": {},
   "outputs": [],
   "source": [
    "# Define the conditions\n",
    "condition1 = (mergeAccCus['MEAS_ACCL_APPLICATION_PENDING'].isnull()) | (mergeAccCus['MEAS_ACCL_APPLICATION_PENDING'] == 'No')\n",
    "condition2 = (mergeAccCus['MEAS_ACCL_APPLICATION_PENDING'].isnull()) | (~mergeAccCus['MEAS_ACCL_APPL_STATUS'].isin(['Approved', 'Running', 'Fulfilled', 'Partially Fulfilled', 'Out of collection']))  \n",
    "condition3 = (~mergeAccCus['MEAS_CUSL_MIN_COMMUNICATION_DATE_3M'].isnull()) \n",
    " \n",
    "# Combine the conditions using the '&' operator (logical AND)\n",
    "combined_condition = condition1 & condition2 & condition3\n",
    "\n",
    "# Apply the combined condition to filter the DataFrame\n",
    "filtered_subset = mergeAccCus[combined_condition] \n",
    " "
   ]
  },
  {
   "cell_type": "code",
   "execution_count": 22,
   "id": "5f6f4a77",
   "metadata": {},
   "outputs": [
    {
     "data": {
      "text/plain": [
       "Target\n",
       "0    2758009\n",
       "1       5306\n",
       "Name: count, dtype: int64"
      ]
     },
     "execution_count": 22,
     "metadata": {},
     "output_type": "execute_result"
    }
   ],
   "source": [
    "filtered_subset['Target'].value_counts()"
   ]
  },
  {
   "cell_type": "code",
   "execution_count": 23,
   "id": "ce8bda1e",
   "metadata": {},
   "outputs": [
    {
     "data": {
      "text/plain": [
       "Target\n",
       "0    99.807984\n",
       "1     0.192016\n",
       "Name: count, dtype: float64"
      ]
     },
     "execution_count": 23,
     "metadata": {},
     "output_type": "execute_result"
    }
   ],
   "source": [
    "target_percentages = (filtered_subset['Target'].value_counts() / len(filtered_subset)) * 100\n",
    "target_percentages"
   ]
  },
  {
   "cell_type": "code",
   "execution_count": 24,
   "id": "a45a86c7",
   "metadata": {},
   "outputs": [],
   "source": [
    "filtered_subset.to_pickle(\"FinTech1.pkl\")"
   ]
  }
 ],
 "metadata": {
  "kernelspec": {
   "display_name": "Python 3 (ipykernel)",
   "language": "python",
   "name": "python3"
  },
  "language_info": {
   "codemirror_mode": {
    "name": "ipython",
    "version": 3
   },
   "file_extension": ".py",
   "mimetype": "text/x-python",
   "name": "python",
   "nbconvert_exporter": "python",
   "pygments_lexer": "ipython3",
   "version": "3.11.5"
  }
 },
 "nbformat": 4,
 "nbformat_minor": 5
}
